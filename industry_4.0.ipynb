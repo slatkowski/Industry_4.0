{
 "cells": [
  {
   "cell_type": "code",
   "execution_count": 18,
   "metadata": {},
   "outputs": [
    {
     "data": {
      "text/html": [
       "<div>\n",
       "<style scoped>\n",
       "    .dataframe tbody tr th:only-of-type {\n",
       "        vertical-align: middle;\n",
       "    }\n",
       "\n",
       "    .dataframe tbody tr th {\n",
       "        vertical-align: top;\n",
       "    }\n",
       "\n",
       "    .dataframe thead th {\n",
       "        text-align: right;\n",
       "    }\n",
       "</style>\n",
       "<table border=\"1\" class=\"dataframe\">\n",
       "  <thead>\n",
       "    <tr style=\"text-align: right;\">\n",
       "      <th></th>\n",
       "      <th>1.35e-06</th>\n",
       "      <th>9.1792</th>\n",
       "    </tr>\n",
       "  </thead>\n",
       "  <tbody>\n",
       "    <tr>\n",
       "      <th>0</th>\n",
       "      <td>0.000001</td>\n",
       "      <td>9.2003</td>\n",
       "    </tr>\n",
       "    <tr>\n",
       "      <th>1</th>\n",
       "      <td>0.000001</td>\n",
       "      <td>9.1968</td>\n",
       "    </tr>\n",
       "    <tr>\n",
       "      <th>2</th>\n",
       "      <td>0.000001</td>\n",
       "      <td>9.1028</td>\n",
       "    </tr>\n",
       "    <tr>\n",
       "      <th>3</th>\n",
       "      <td>0.000001</td>\n",
       "      <td>9.0601</td>\n",
       "    </tr>\n",
       "    <tr>\n",
       "      <th>4</th>\n",
       "      <td>0.000001</td>\n",
       "      <td>9.1118</td>\n",
       "    </tr>\n",
       "    <tr>\n",
       "      <th>...</th>\n",
       "      <td>...</td>\n",
       "      <td>...</td>\n",
       "    </tr>\n",
       "    <tr>\n",
       "      <th>2995</th>\n",
       "      <td>0.000002</td>\n",
       "      <td>3.8310</td>\n",
       "    </tr>\n",
       "    <tr>\n",
       "      <th>2996</th>\n",
       "      <td>0.000002</td>\n",
       "      <td>3.8613</td>\n",
       "    </tr>\n",
       "    <tr>\n",
       "      <th>2997</th>\n",
       "      <td>0.000002</td>\n",
       "      <td>3.8361</td>\n",
       "    </tr>\n",
       "    <tr>\n",
       "      <th>2998</th>\n",
       "      <td>0.000002</td>\n",
       "      <td>3.9466</td>\n",
       "    </tr>\n",
       "    <tr>\n",
       "      <th>2999</th>\n",
       "      <td>0.000002</td>\n",
       "      <td>3.8974</td>\n",
       "    </tr>\n",
       "  </tbody>\n",
       "</table>\n",
       "<p>3000 rows × 2 columns</p>\n",
       "</div>"
      ],
      "text/plain": [
       "      1.35e-06  9.1792\n",
       "0     0.000001  9.2003\n",
       "1     0.000001  9.1968\n",
       "2     0.000001  9.1028\n",
       "3     0.000001  9.0601\n",
       "4     0.000001  9.1118\n",
       "...        ...     ...\n",
       "2995  0.000002  3.8310\n",
       "2996  0.000002  3.8613\n",
       "2997  0.000002  3.8361\n",
       "2998  0.000002  3.9466\n",
       "2999  0.000002  3.8974\n",
       "\n",
       "[3000 rows x 2 columns]"
      ]
     },
     "execution_count": 18,
     "metadata": {},
     "output_type": "execute_result"
    }
   ],
   "source": [
    "'''Import potrzbenych bibliotek do wczytania danych i późniejszego preprocessingu.'''\n",
    "\n",
    "import pandas as pd\n",
    "import os\n",
    "import glob\n",
    "from pathlib import Path\n",
    "\n",
    "'''Wczytanie i podgląd jednego zestawu danych ze środowiska 'air' po wrzuceniu do funkcji pd.read_csv() odpowiedniej \n",
    "ścieżki względnej do pliku.'''\n",
    "\n",
    "air_1 = pd.read_csv('Dataset\\sesion_01_20\\sensor01_air.txt')\n",
    "air_1"
   ]
  },
  {
   "cell_type": "code",
   "execution_count": 21,
   "metadata": {},
   "outputs": [
    {
     "name": "stdout",
     "output_type": "stream",
     "text": [
      "['.git', '.ipynb_checkpoints', 'Dataset', 'industry_4.0.ipynb', 'README.md']\n",
      "['sesion_01_20', 'sesion_02_20', 'sesion_03_20', 'sesion_04_20', 'sesion_05_20', 'sesion_06_20', 'sesion_07_20', 'sesion_08_20', 'sesion_09_20', 'sesion_10_20']\n",
      "c:\\Users\\48668\\OneDrive\\Pulpit\\industry_project\\Idustry_4.0\n"
     ]
    }
   ],
   "source": [
    "'''Podgląd zawartości folderu, w którym jesteśmy.'''\n",
    "\n",
    "print(os.listdir('.'))\n",
    "\n",
    "'''Podgląd zawartości folderu z relatywnej ścieżki 'Dataset'.''' \n",
    "\n",
    "print(os.listdir('Dataset'))\n",
    "\n",
    "'''Podgląd aktualnej ścieżki do pliku, w którym się znajdujemy.'''\n",
    "print(os.getcwd())"
   ]
  },
  {
   "cell_type": "code",
   "execution_count": 46,
   "metadata": {},
   "outputs": [
    {
     "name": "stdout",
     "output_type": "stream",
     "text": [
      "Ścieżka: C:\\Users\\48668\\OneDrive\\Pulpit\\industry_project\\Idustry_4.0\\Dataset\n",
      "Foldery: ['sesion_01_20', 'sesion_02_20', 'sesion_03_20', 'sesion_04_20', 'sesion_05_20', 'sesion_06_20', 'sesion_07_20', 'sesion_08_20', 'sesion_09_20', 'sesion_10_20']\n",
      "Pliki: []\n",
      "______________\n",
      "Ścieżka: C:\\Users\\48668\\OneDrive\\Pulpit\\industry_project\\Idustry_4.0\\Dataset\\sesion_01_20\n",
      "Foldery: []\n",
      "Pliki: ['sensor01_air.txt', 'sensor01_izopropanol.txt', 'sensor01_water.txt']\n",
      "______________\n",
      "Ścieżka: C:\\Users\\48668\\OneDrive\\Pulpit\\industry_project\\Idustry_4.0\\Dataset\\sesion_02_20\n",
      "Foldery: []\n",
      "Pliki: ['sensor02_air.txt', 'sensor02_izopropanol.txt', 'sensor02_water.txt']\n",
      "______________\n",
      "Ścieżka: C:\\Users\\48668\\OneDrive\\Pulpit\\industry_project\\Idustry_4.0\\Dataset\\sesion_03_20\n",
      "Foldery: []\n",
      "Pliki: ['sensor03_air.txt', 'sensor03_izopropanol.txt', 'sensor03_water.txt']\n",
      "______________\n",
      "Ścieżka: C:\\Users\\48668\\OneDrive\\Pulpit\\industry_project\\Idustry_4.0\\Dataset\\sesion_04_20\n",
      "Foldery: []\n",
      "Pliki: ['sensor04_air.txt', 'sensor04_izopropanol.txt', 'sensor04_water.txt']\n",
      "______________\n",
      "Ścieżka: C:\\Users\\48668\\OneDrive\\Pulpit\\industry_project\\Idustry_4.0\\Dataset\\sesion_05_20\n",
      "Foldery: []\n",
      "Pliki: ['sensor05_air.txt', 'sensor05_izopropanol.txt', 'sensor05_water.txt']\n",
      "______________\n",
      "Ścieżka: C:\\Users\\48668\\OneDrive\\Pulpit\\industry_project\\Idustry_4.0\\Dataset\\sesion_06_20\n",
      "Foldery: []\n",
      "Pliki: ['sensor06_air.txt', 'sensor06_izopropanol.txt', 'sensor06_water.txt']\n",
      "______________\n",
      "Ścieżka: C:\\Users\\48668\\OneDrive\\Pulpit\\industry_project\\Idustry_4.0\\Dataset\\sesion_07_20\n",
      "Foldery: []\n",
      "Pliki: ['sensor07_air.txt', 'sensor07_izopropanol.txt', 'sensor07_water.txt']\n",
      "______________\n",
      "Ścieżka: C:\\Users\\48668\\OneDrive\\Pulpit\\industry_project\\Idustry_4.0\\Dataset\\sesion_08_20\n",
      "Foldery: []\n",
      "Pliki: ['sensor08_air.txt', 'sensor08_izopropanol.txt', 'sensor08_water.txt']\n",
      "______________\n",
      "Ścieżka: C:\\Users\\48668\\OneDrive\\Pulpit\\industry_project\\Idustry_4.0\\Dataset\\sesion_09_20\n",
      "Foldery: []\n",
      "Pliki: ['sensor09_air.txt', 'sensor09_izopropanol.txt', 'sensor09_water.txt']\n",
      "______________\n",
      "Ścieżka: C:\\Users\\48668\\OneDrive\\Pulpit\\industry_project\\Idustry_4.0\\Dataset\\sesion_10_20\n",
      "Foldery: []\n",
      "Pliki: ['sensor10_air.txt', 'sensor10_izopropanol.txt', 'sensor10_water.txt']\n",
      "______________\n"
     ]
    }
   ],
   "source": [
    "'''W zmiennej folder wrzucona została ścieżka bezwględna do folderu Dataset, w którym są wszystkie sesje pomiarowe \n",
    "z każdego środowiska.'''\n",
    "\n",
    "folder = (r'C:\\Users\\48668\\OneDrive\\Pulpit\\industry_project\\Idustry_4.0\\Dataset')\n",
    "\n",
    "'''Następnie iterując za pomocą pętli for oraz funkcji os.walk() przechodzimy po ścieżce bezwzględnej zapisanej w zmiennej \n",
    "i chcemy uzyskać podgląd jakie foldery i pliki znajdują się pod wskazaną ścieżką. W pierwszej kolejności uzyskujemy podgląd \n",
    "do folderu Dataset, w którym znajduje się 10 folderów z poszczególnymi sesjami. \n",
    "Następnie w kazdym z tych folderów znajdują się wyniki pomiarowe dla trzech środowisk: powietrza, wody i izopropanolu.'''\n",
    "\n",
    "for path, dirs, files in os.walk(folder):\n",
    "    print(f'Ścieżka: {path}')\n",
    "    print(f'Foldery: {dirs}')\n",
    "    print(f'Pliki: {files}')\n",
    "    print('______________')"
   ]
  },
  {
   "cell_type": "code",
   "execution_count": null,
   "metadata": {},
   "outputs": [],
   "source": []
  }
 ],
 "metadata": {
  "kernelspec": {
   "display_name": "Python 3",
   "language": "python",
   "name": "python3"
  },
  "language_info": {
   "codemirror_mode": {
    "name": "ipython",
    "version": 3
   },
   "file_extension": ".py",
   "mimetype": "text/x-python",
   "name": "python",
   "nbconvert_exporter": "python",
   "pygments_lexer": "ipython3",
   "version": "3.10.5"
  },
  "orig_nbformat": 4,
  "vscode": {
   "interpreter": {
    "hash": "26de051ba29f2982a8de78e945f0abaf191376122a1563185a90213a26c5da77"
   }
  }
 },
 "nbformat": 4,
 "nbformat_minor": 2
}
